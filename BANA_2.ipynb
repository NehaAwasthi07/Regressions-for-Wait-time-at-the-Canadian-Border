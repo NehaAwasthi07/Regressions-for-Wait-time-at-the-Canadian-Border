{
 "cells": [
  {
   "cell_type": "markdown",
   "id": "7b4027f1",
   "metadata": {},
   "source": [
    "# Assignment 2 : Regressions\n"
   ]
  },
  {
   "cell_type": "markdown",
   "id": "50f1f706",
   "metadata": {},
   "source": [
    "## Introduction :\n",
    "\n",
    "The Canadian border sees significant traffic flow from the US and this data is collected by The Government of Canada. In this project, we analyze the traffic flow to the Canadian border from the US using pandas in python. In addition to investigating the wait times for the passengers, we build two kinds of regression models namely OLS regression and logistic regression model to predict the wait time for passenger traveller flow at the Lewiston Bridge crossing. We then, analyze and compare both the models and discuss additional information and features which could potentially improve the models.\n",
    "\n",
    "\n",
    "## Data:\n",
    "\n",
    "We have used two publicly available datasets provided by The Government of Canada. The first dataset contains the information on wait times from the border crossings from 2010 to 2014 which we use to train our models and the second dataset contains the same information from 2015 which we use to predict the wait times and test our models. \n",
    "We have done a basic data cleaning process for both the datasets including dropping the columns and rows containing redundant information or missing information."
   ]
  },
  {
   "cell_type": "markdown",
   "id": "f5659e18",
   "metadata": {},
   "source": [
    "## Basic Data Exploration\n",
    "\n",
    "Before we start to build the regression models to predict wait times, Let's explore our dataset and understand the data and relationships between different variables.\n",
    "\n",
    "We start my importing the required libraries."
   ]
  },
  {
   "cell_type": "code",
   "execution_count": 1,
   "id": "af3483a9",
   "metadata": {},
   "outputs": [],
   "source": [
    "import pandas as pd\n",
    "import numpy as np\n",
    "from pandas.tseries.holiday import USFederalHolidayCalendar as calendar\n",
    "from datetime import datetime\n",
    "import seaborn as sns\n",
    "import matplotlib.pyplot as plt\n",
    "import statsmodels.formula.api as sm\n",
    "from sklearn.metrics import (confusion_matrix, accuracy_score)\n",
    "from sklearn.linear_model import LogisticRegression\n",
    "from sklearn import metrics\n",
    "import warnings\n",
    "warnings.filterwarnings(\"ignore\")"
   ]
  },
  {
   "cell_type": "markdown",
   "id": "0398dc78",
   "metadata": {},
   "source": [
    "Let's import our first data set from 2008 -2014 "
   ]
  },
  {
   "cell_type": "code",
   "execution_count": 2,
   "id": "fa45bb6b",
   "metadata": {},
   "outputs": [],
   "source": [
    "myfile = \"/Users/nehaawasthi/Desktop/BANA/Assignment 2/bwt-taf-2010-2014-eng.csv\"\n",
    "df1 = pd.read_csv(myfile)"
   ]
  },
  {
   "cell_type": "markdown",
   "id": "588ecb53",
   "metadata": {},
   "source": [
    "Let's do some basic data exploration"
   ]
  },
  {
   "cell_type": "code",
   "execution_count": 3,
   "id": "9ca93660",
   "metadata": {},
   "outputs": [
    {
     "data": {
      "text/html": [
       "<div>\n",
       "<style scoped>\n",
       "    .dataframe tbody tr th:only-of-type {\n",
       "        vertical-align: middle;\n",
       "    }\n",
       "\n",
       "    .dataframe tbody tr th {\n",
       "        vertical-align: top;\n",
       "    }\n",
       "\n",
       "    .dataframe thead th {\n",
       "        text-align: right;\n",
       "    }\n",
       "</style>\n",
       "<table border=\"1\" class=\"dataframe\">\n",
       "  <thead>\n",
       "    <tr style=\"text-align: right;\">\n",
       "      <th></th>\n",
       "      <th>CBSA Office</th>\n",
       "      <th>Location</th>\n",
       "      <th>Updated</th>\n",
       "      <th>Commercial Flow</th>\n",
       "      <th>Travellers Flow</th>\n",
       "    </tr>\n",
       "  </thead>\n",
       "  <tbody>\n",
       "    <tr>\n",
       "      <th>0</th>\n",
       "      <td>St. Stephen</td>\n",
       "      <td>St. Stephen, NB</td>\n",
       "      <td>2014-04-04 12:58 ADT</td>\n",
       "      <td>Not Applicable</td>\n",
       "      <td>No Delay</td>\n",
       "    </tr>\n",
       "    <tr>\n",
       "      <th>1</th>\n",
       "      <td>St. Stephen</td>\n",
       "      <td>St. Stephen, NB</td>\n",
       "      <td>2014-04-04 11:55 ADT</td>\n",
       "      <td>Not Applicable</td>\n",
       "      <td>No Delay</td>\n",
       "    </tr>\n",
       "    <tr>\n",
       "      <th>2</th>\n",
       "      <td>St. Stephen</td>\n",
       "      <td>St. Stephen, NB</td>\n",
       "      <td>2014-04-04 10:46 ADT</td>\n",
       "      <td>Not Applicable</td>\n",
       "      <td>No Delay</td>\n",
       "    </tr>\n",
       "    <tr>\n",
       "      <th>3</th>\n",
       "      <td>St. Stephen</td>\n",
       "      <td>St. Stephen, NB</td>\n",
       "      <td>2014-04-04 10:14 ADT</td>\n",
       "      <td>Not Applicable</td>\n",
       "      <td>No Delay</td>\n",
       "    </tr>\n",
       "    <tr>\n",
       "      <th>4</th>\n",
       "      <td>St. Stephen</td>\n",
       "      <td>St. Stephen, NB</td>\n",
       "      <td>2014-04-04 09:02 ADT</td>\n",
       "      <td>Not Applicable</td>\n",
       "      <td>No Delay</td>\n",
       "    </tr>\n",
       "  </tbody>\n",
       "</table>\n",
       "</div>"
      ],
      "text/plain": [
       "   CBSA Office         Location               Updated Commercial Flow  \\\n",
       "0  St. Stephen  St. Stephen, NB  2014-04-04 12:58 ADT  Not Applicable   \n",
       "1  St. Stephen  St. Stephen, NB  2014-04-04 11:55 ADT  Not Applicable   \n",
       "2  St. Stephen  St. Stephen, NB  2014-04-04 10:46 ADT  Not Applicable   \n",
       "3  St. Stephen  St. Stephen, NB  2014-04-04 10:14 ADT  Not Applicable   \n",
       "4  St. Stephen  St. Stephen, NB  2014-04-04 09:02 ADT  Not Applicable   \n",
       "\n",
       "  Travellers Flow  \n",
       "0        No Delay  \n",
       "1        No Delay  \n",
       "2        No Delay  \n",
       "3        No Delay  \n",
       "4        No Delay  "
      ]
     },
     "execution_count": 3,
     "metadata": {},
     "output_type": "execute_result"
    }
   ],
   "source": [
    "# Check the first 5 rows  of the dataframe\n",
    "df1.head()"
   ]
  },
  {
   "cell_type": "code",
   "execution_count": 4,
   "id": "3f6a9779",
   "metadata": {},
   "outputs": [
    {
     "name": "stdout",
     "output_type": "stream",
     "text": [
      "<class 'pandas.core.frame.DataFrame'>\n",
      "RangeIndex: 992993 entries, 0 to 992992\n",
      "Data columns (total 5 columns):\n",
      " #   Column           Non-Null Count   Dtype \n",
      "---  ------           --------------   ----- \n",
      " 0   CBSA Office      992993 non-null  object\n",
      " 1   Location         992993 non-null  object\n",
      " 2   Updated          992993 non-null  object\n",
      " 3   Commercial Flow  992993 non-null  object\n",
      " 4   Travellers Flow  992993 non-null  object\n",
      "dtypes: object(5)\n",
      "memory usage: 37.9+ MB\n"
     ]
    }
   ],
   "source": [
    "# Check the column-wise info\n",
    "df1.info()"
   ]
  },
  {
   "cell_type": "code",
   "execution_count": 5,
   "id": "2294877c",
   "metadata": {},
   "outputs": [
    {
     "data": {
      "text/plain": [
       "CBSA Office        object\n",
       "Location           object\n",
       "Updated            object\n",
       "Commercial Flow    object\n",
       "Travellers Flow    object\n",
       "dtype: object"
      ]
     },
     "execution_count": 5,
     "metadata": {},
     "output_type": "execute_result"
    }
   ],
   "source": [
    "# check the type of data for each column\n",
    "df1.dtypes"
   ]
  },
  {
   "cell_type": "code",
   "execution_count": 6,
   "id": "b51539f6",
   "metadata": {},
   "outputs": [
    {
     "data": {
      "text/plain": [
       "(992993, 5)"
      ]
     },
     "execution_count": 6,
     "metadata": {},
     "output_type": "execute_result"
    }
   ],
   "source": [
    "# Check the shape of the dataframe\n",
    "df1.shape"
   ]
  },
  {
   "cell_type": "markdown",
   "id": "7117da8d",
   "metadata": {},
   "source": [
    "## Data Analysis for Queenston-Lewiston Bridge\n",
    "\n",
    "We want to analyze the wait times for Queenston-Lewiston Bridge only so, let's subset the dataset for that particular office and then explore and clean-up the data here. "
   ]
  },
  {
   "cell_type": "code",
   "execution_count": 7,
   "id": "f1f92f8d",
   "metadata": {
    "scrolled": true
   },
   "outputs": [
    {
     "data": {
      "text/html": [
       "<div>\n",
       "<style scoped>\n",
       "    .dataframe tbody tr th:only-of-type {\n",
       "        vertical-align: middle;\n",
       "    }\n",
       "\n",
       "    .dataframe tbody tr th {\n",
       "        vertical-align: top;\n",
       "    }\n",
       "\n",
       "    .dataframe thead th {\n",
       "        text-align: right;\n",
       "    }\n",
       "</style>\n",
       "<table border=\"1\" class=\"dataframe\">\n",
       "  <thead>\n",
       "    <tr style=\"text-align: right;\">\n",
       "      <th></th>\n",
       "      <th>CBSA Office</th>\n",
       "      <th>Location</th>\n",
       "      <th>Updated</th>\n",
       "      <th>Commercial Flow</th>\n",
       "      <th>Travellers Flow</th>\n",
       "    </tr>\n",
       "  </thead>\n",
       "  <tbody>\n",
       "    <tr>\n",
       "      <th>369413</th>\n",
       "      <td>Queenston-Lewiston Bridge</td>\n",
       "      <td>Queenston, ON</td>\n",
       "      <td>2014-04-04 13:06 EDT</td>\n",
       "      <td>No Delay</td>\n",
       "      <td>No Delay</td>\n",
       "    </tr>\n",
       "    <tr>\n",
       "      <th>369414</th>\n",
       "      <td>Queenston-Lewiston Bridge</td>\n",
       "      <td>Queenston, ON</td>\n",
       "      <td>2014-04-04 12:05 EDT</td>\n",
       "      <td>No Delay</td>\n",
       "      <td>No Delay</td>\n",
       "    </tr>\n",
       "    <tr>\n",
       "      <th>369415</th>\n",
       "      <td>Queenston-Lewiston Bridge</td>\n",
       "      <td>Queenston, ON</td>\n",
       "      <td>2014-04-04 11:09 EDT</td>\n",
       "      <td>No Delay</td>\n",
       "      <td>No Delay</td>\n",
       "    </tr>\n",
       "    <tr>\n",
       "      <th>369416</th>\n",
       "      <td>Queenston-Lewiston Bridge</td>\n",
       "      <td>Queenston, ON</td>\n",
       "      <td>2014-04-04 11:07 EDT</td>\n",
       "      <td>No Delay</td>\n",
       "      <td>No Delay</td>\n",
       "    </tr>\n",
       "    <tr>\n",
       "      <th>369417</th>\n",
       "      <td>Queenston-Lewiston Bridge</td>\n",
       "      <td>Queenston, ON</td>\n",
       "      <td>2014-04-04 11:07 EDT</td>\n",
       "      <td>No Delay</td>\n",
       "      <td>No Delay</td>\n",
       "    </tr>\n",
       "  </tbody>\n",
       "</table>\n",
       "</div>"
      ],
      "text/plain": [
       "                      CBSA Office       Location               Updated  \\\n",
       "369413  Queenston-Lewiston Bridge  Queenston, ON  2014-04-04 13:06 EDT   \n",
       "369414  Queenston-Lewiston Bridge  Queenston, ON  2014-04-04 12:05 EDT   \n",
       "369415  Queenston-Lewiston Bridge  Queenston, ON  2014-04-04 11:09 EDT   \n",
       "369416  Queenston-Lewiston Bridge  Queenston, ON  2014-04-04 11:07 EDT   \n",
       "369417  Queenston-Lewiston Bridge  Queenston, ON  2014-04-04 11:07 EDT   \n",
       "\n",
       "       Commercial Flow Travellers Flow  \n",
       "369413        No Delay        No Delay  \n",
       "369414        No Delay        No Delay  \n",
       "369415        No Delay        No Delay  \n",
       "369416        No Delay        No Delay  \n",
       "369417        No Delay        No Delay  "
      ]
     },
     "execution_count": 7,
     "metadata": {},
     "output_type": "execute_result"
    }
   ],
   "source": [
    "# Get data only for Queenston-Lewiston Bridge\n",
    "filtered_df1 = df1[df1['CBSA Office'] == 'Queenston-Lewiston Bridge']\n",
    "filtered_df1.head()"
   ]
  },
  {
   "cell_type": "markdown",
   "id": "6861c214",
   "metadata": {},
   "source": [
    "Let's check the unique items in the Travellers flow column for the passenger wait times"
   ]
  },
  {
   "cell_type": "code",
   "execution_count": 8,
   "id": "ade95ec8",
   "metadata": {},
   "outputs": [
    {
     "data": {
      "text/plain": [
       "No Delay    35675\n",
       "10           2493\n",
       "20           2043\n",
       "30           1986\n",
       "45           1455\n",
       "60            294\n",
       "75            171\n",
       "90             53\n",
       "105            20\n",
       "120            16\n",
       "Closed         12\n",
       "150             7\n",
       "135             5\n",
       "420             4\n",
       "Name: Travellers Flow, dtype: int64"
      ]
     },
     "execution_count": 8,
     "metadata": {},
     "output_type": "execute_result"
    }
   ],
   "source": [
    "filtered_df1['Travellers Flow'].value_counts()"
   ]
  },
  {
   "cell_type": "markdown",
   "id": "b35fb88c",
   "metadata": {},
   "source": [
    "As we ultimately want to run regression models of this data, let's investigate the 'Closed' values more"
   ]
  },
  {
   "cell_type": "code",
   "execution_count": 9,
   "id": "818c43c3",
   "metadata": {},
   "outputs": [
    {
     "data": {
      "text/html": [
       "<div>\n",
       "<style scoped>\n",
       "    .dataframe tbody tr th:only-of-type {\n",
       "        vertical-align: middle;\n",
       "    }\n",
       "\n",
       "    .dataframe tbody tr th {\n",
       "        vertical-align: top;\n",
       "    }\n",
       "\n",
       "    .dataframe thead th {\n",
       "        text-align: right;\n",
       "    }\n",
       "</style>\n",
       "<table border=\"1\" class=\"dataframe\">\n",
       "  <thead>\n",
       "    <tr style=\"text-align: right;\">\n",
       "      <th></th>\n",
       "      <th>CBSA Office</th>\n",
       "      <th>Location</th>\n",
       "      <th>Updated</th>\n",
       "      <th>Commercial Flow</th>\n",
       "      <th>Travellers Flow</th>\n",
       "    </tr>\n",
       "  </thead>\n",
       "  <tbody>\n",
       "    <tr>\n",
       "      <th>6386</th>\n",
       "      <td>St. Stephen</td>\n",
       "      <td>St. Stephen, NB</td>\n",
       "      <td>2013-08-10 13:21 ADT</td>\n",
       "      <td>Not Applicable</td>\n",
       "      <td>Closed</td>\n",
       "    </tr>\n",
       "    <tr>\n",
       "      <th>6388</th>\n",
       "      <td>St. Stephen</td>\n",
       "      <td>St. Stephen, NB</td>\n",
       "      <td>2013-08-10 13:21 ADT</td>\n",
       "      <td>Not Applicable</td>\n",
       "      <td>Closed</td>\n",
       "    </tr>\n",
       "    <tr>\n",
       "      <th>16760</th>\n",
       "      <td>St. Stephen</td>\n",
       "      <td>St. Stephen, NB</td>\n",
       "      <td>2012-08-11 14:35 ADT</td>\n",
       "      <td>Not Applicable</td>\n",
       "      <td>Closed</td>\n",
       "    </tr>\n",
       "    <tr>\n",
       "      <th>16761</th>\n",
       "      <td>St. Stephen</td>\n",
       "      <td>St. Stephen, NB</td>\n",
       "      <td>2012-08-11 14:35 ADT</td>\n",
       "      <td>Not Applicable</td>\n",
       "      <td>Closed</td>\n",
       "    </tr>\n",
       "    <tr>\n",
       "      <th>34288</th>\n",
       "      <td>St. Stephen</td>\n",
       "      <td>St. Stephen, NB</td>\n",
       "      <td>2010-12-04 12:02 ADT</td>\n",
       "      <td>Not Applicable</td>\n",
       "      <td>Closed</td>\n",
       "    </tr>\n",
       "  </tbody>\n",
       "</table>\n",
       "</div>"
      ],
      "text/plain": [
       "       CBSA Office         Location               Updated Commercial Flow  \\\n",
       "6386   St. Stephen  St. Stephen, NB  2013-08-10 13:21 ADT  Not Applicable   \n",
       "6388   St. Stephen  St. Stephen, NB  2013-08-10 13:21 ADT  Not Applicable   \n",
       "16760  St. Stephen  St. Stephen, NB  2012-08-11 14:35 ADT  Not Applicable   \n",
       "16761  St. Stephen  St. Stephen, NB  2012-08-11 14:35 ADT  Not Applicable   \n",
       "34288  St. Stephen  St. Stephen, NB  2010-12-04 12:02 ADT  Not Applicable   \n",
       "\n",
       "      Travellers Flow  \n",
       "6386           Closed  \n",
       "6388           Closed  \n",
       "16760          Closed  \n",
       "16761          Closed  \n",
       "34288          Closed  "
      ]
     },
     "execution_count": 9,
     "metadata": {},
     "output_type": "execute_result"
    }
   ],
   "source": [
    "# Let's check the values when 'Travellers Flow' was closed for any of the locations\n",
    "df1[df1['Travellers Flow'] == 'Closed'].head()"
   ]
  },
  {
   "cell_type": "markdown",
   "id": "56566238",
   "metadata": {},
   "source": [
    "Now, let's see the 'Closed' entries only for 'Queenston-Lewiston Bridge'."
   ]
  },
  {
   "cell_type": "markdown",
   "id": "b610e904",
   "metadata": {},
   "source": [
    "There are only 12 closed values for this dataframe and upon inspection they don't seem to have anything in common with closed entries from other enrty points.\n",
    "\n",
    "Upon further investigation, we found out that on the mentioned dates of 28th & 29th April 2011, The Niagara Falls Bridge Commission closed the Lewiston-Queenston Bridge due to the damage and power outages caused by high winds\n",
    "(https://www.wbfo.org/2011-04-28/high-winds-close-lewiston-queenston-bridge).\n",
    "Since, this doesn't seem to be a systemic problem we have decided to drop the 'Closed' value entries so as not to skew our analysis."
   ]
  },
  {
   "cell_type": "code",
   "execution_count": 10,
   "id": "01c346d3",
   "metadata": {},
   "outputs": [],
   "source": [
    "# Let's drop the \"Closed\" entries for \"Travellers Flow\"\n",
    "indexFiltered = filtered_df1[(filtered_df1['Travellers Flow'] == \"Closed\")].index\n",
    "filtered_df1.drop(indexFiltered, axis =0,  inplace=True)"
   ]
  },
  {
   "cell_type": "markdown",
   "id": "331f35a4",
   "metadata": {},
   "source": [
    "## Feature Engineering\n",
    "\n",
    "Now that we have cleaned data for the desired location, let's build the features from here which will be useful in our regression models predicting Travellers wait times."
   ]
  },
  {
   "cell_type": "markdown",
   "id": "7db08210",
   "metadata": {},
   "source": [
    "Here, we convert the 'Updated' column from the dataframe containing the datetime information to datetime variable and extract different informstion to create new features."
   ]
  },
  {
   "cell_type": "code",
   "execution_count": 11,
   "id": "3dc88aa4",
   "metadata": {},
   "outputs": [],
   "source": [
    "# Let's create new features for Date, Month, Year, Time, Hour and Weekday \n",
    "filtered_df1['Date'] = pd.to_datetime(filtered_df1['Updated']).dt.date\n",
    "filtered_df1['Month'] = pd.to_datetime(filtered_df1['Updated']).dt.month\n",
    "filtered_df1['Year'] = pd.to_datetime(filtered_df1['Updated']).dt.year\n",
    "filtered_df1['Time_of_Day'] = pd.to_datetime(filtered_df1['Updated']).dt.time\n",
    "filtered_df1['Hour'] = pd.to_datetime(filtered_df1['Updated']).dt.hour\n",
    "filtered_df1['Day of Week'] = pd.to_datetime(filtered_df1['Updated']).dt.weekday\n",
    "filtered_df1['Day'] = pd.to_datetime(filtered_df1['Updated']).dt.day"
   ]
  },
  {
   "cell_type": "code",
   "execution_count": 12,
   "id": "3a54daa7",
   "metadata": {},
   "outputs": [],
   "source": [
    "#Let's create a season feature based on New York Seasons\n",
    "season_con =[(filtered_df1['Month'] > 6) & (filtered_df1['Month'] <= 9),(filtered_df1['Month']>= 10) & \n",
    "             (filtered_df1['Month']<= 12),(filtered_df1['Month']>= 1)& \n",
    "             (filtered_df1['Month'] <= 3),(filtered_df1['Month'] >= 4)& (filtered_df1['Month']<= 6)]\n",
    "season_options = ['Summer', 'Autumn', 'Winter', 'Spring']\n",
    "\n",
    "filtered_df1['Season'] = np.select(season_con, season_options, default=np.nan)"
   ]
  },
  {
   "cell_type": "markdown",
   "id": "e0bb4ad5",
   "metadata": {},
   "source": [
    "Now, we look at the distribution of 'Hour' variable to categorize it."
   ]
  },
  {
   "cell_type": "code",
   "execution_count": 13,
   "id": "cc845cc3",
   "metadata": {},
   "outputs": [
    {
     "data": {
      "text/plain": [
       "<AxesSubplot:ylabel='Frequency'>"
      ]
     },
     "execution_count": 13,
     "metadata": {},
     "output_type": "execute_result"
    },
    {
     "data": {
      "image/png": "[encoded data removed]",
      "text/plain": [
       "<Figure size 432x288 with 1 Axes>"
      ]
     },
     "metadata": {
      "needs_background": "light"
     },
     "output_type": "display_data"
    }
   ],
   "source": [
    "# histogram of unique values\n",
    "filtered_df1['Hour'].value_counts().plot(kind='hist', bins =24)"
   ]
  },
  {
   "cell_type": "markdown",
   "id": "6f492536",
   "metadata": {},
   "source": [
    "Let's add another variable categorizing whether the day was holiday or not according to US federal Holiday Calendar."
   ]
  },
  {
   "cell_type": "code",
   "execution_count": 14,
   "id": "d3614025",
   "metadata": {},
   "outputs": [
    {
     "data": {
      "text/html": [
       "<div>\n",
       "<style scoped>\n",
       "    .dataframe tbody tr th:only-of-type {\n",
       "        vertical-align: middle;\n",
       "    }\n",
       "\n",
       "    .dataframe tbody tr th {\n",
       "        vertical-align: top;\n",
       "    }\n",
       "\n",
       "    .dataframe thead th {\n",
       "        text-align: right;\n",
       "    }\n",
       "</style>\n",
       "<table border=\"1\" class=\"dataframe\">\n",
       "  <thead>\n",
       "    <tr style=\"text-align: right;\">\n",
       "      <th></th>\n",
       "      <th>CBSA Office</th>\n",
       "      <th>Location</th>\n",
       "      <th>Updated</th>\n",
       "      <th>Commercial Flow</th>\n",
       "      <th>Travellers Flow</th>\n",
       "      <th>Date</th>\n",
       "      <th>Month</th>\n",
       "      <th>Year</th>\n",
       "      <th>Time_of_Day</th>\n",
       "      <th>Hour</th>\n",
       "      <th>Day of Week</th>\n",
       "      <th>Day</th>\n",
       "      <th>Season</th>\n",
       "      <th>Holiday</th>\n",
       "    </tr>\n",
       "  </thead>\n",
       "  <tbody>\n",
       "    <tr>\n",
       "      <th>369413</th>\n",
       "      <td>Queenston-Lewiston Bridge</td>\n",
       "      <td>Queenston, ON</td>\n",
       "      <td>2014-04-04 13:06 EDT</td>\n",
       "      <td>No Delay</td>\n",
       "      <td>No Delay</td>\n",
       "      <td>2014-04-04</td>\n",
       "      <td>4</td>\n",
       "      <td>2014</td>\n",
       "      <td>13:06:00</td>\n",
       "      <td>13</td>\n",
       "      <td>4</td>\n",
       "      <td>4</td>\n",
       "      <td>Spring</td>\n",
       "      <td>False</td>\n",
       "    </tr>\n",
       "    <tr>\n",
       "      <th>369414</th>\n",
       "      <td>Queenston-Lewiston Bridge</td>\n",
       "      <td>Queenston, ON</td>\n",
       "      <td>2014-04-04 12:05 EDT</td>\n",
       "      <td>No Delay</td>\n",
       "      <td>No Delay</td>\n",
       "      <td>2014-04-04</td>\n",
       "      <td>4</td>\n",
       "      <td>2014</td>\n",
       "      <td>12:05:00</td>\n",
       "      <td>12</td>\n",
       "      <td>4</td>\n",
       "      <td>4</td>\n",
       "      <td>Spring</td>\n",
       "      <td>False</td>\n",
       "    </tr>\n",
       "    <tr>\n",
       "      <th>369415</th>\n",
       "      <td>Queenston-Lewiston Bridge</td>\n",
       "      <td>Queenston, ON</td>\n",
       "      <td>2014-04-04 11:09 EDT</td>\n",
       "      <td>No Delay</td>\n",
       "      <td>No Delay</td>\n",
       "      <td>2014-04-04</td>\n",
       "      <td>4</td>\n",
       "      <td>2014</td>\n",
       "      <td>11:09:00</td>\n",
       "      <td>11</td>\n",
       "      <td>4</td>\n",
       "      <td>4</td>\n",
       "      <td>Spring</td>\n",
       "      <td>False</td>\n",
       "    </tr>\n",
       "    <tr>\n",
       "      <th>369416</th>\n",
       "      <td>Queenston-Lewiston Bridge</td>\n",
       "      <td>Queenston, ON</td>\n",
       "      <td>2014-04-04 11:07 EDT</td>\n",
       "      <td>No Delay</td>\n",
       "      <td>No Delay</td>\n",
       "      <td>2014-04-04</td>\n",
       "      <td>4</td>\n",
       "      <td>2014</td>\n",
       "      <td>11:07:00</td>\n",
       "      <td>11</td>\n",
       "      <td>4</td>\n",
       "      <td>4</td>\n",
       "      <td>Spring</td>\n",
       "      <td>False</td>\n",
       "    </tr>\n",
       "    <tr>\n",
       "      <th>369417</th>\n",
       "      <td>Queenston-Lewiston Bridge</td>\n",
       "      <td>Queenston, ON</td>\n",
       "      <td>2014-04-04 11:07 EDT</td>\n",
       "      <td>No Delay</td>\n",
       "      <td>No Delay</td>\n",
       "      <td>2014-04-04</td>\n",
       "      <td>4</td>\n",
       "      <td>2014</td>\n",
       "      <td>11:07:00</td>\n",
       "      <td>11</td>\n",
       "      <td>4</td>\n",
       "      <td>4</td>\n",
       "      <td>Spring</td>\n",
       "      <td>False</td>\n",
       "    </tr>\n",
       "  </tbody>\n",
       "</table>\n",
       "</div>"
      ],
      "text/plain": [
       "                      CBSA Office       Location               Updated  \\\n",
       "369413  Queenston-Lewiston Bridge  Queenston, ON  2014-04-04 13:06 EDT   \n",
       "369414  Queenston-Lewiston Bridge  Queenston, ON  2014-04-04 12:05 EDT   \n",
       "369415  Queenston-Lewiston Bridge  Queenston, ON  2014-04-04 11:09 EDT   \n",
       "369416  Queenston-Lewiston Bridge  Queenston, ON  2014-04-04 11:07 EDT   \n",
       "369417  Queenston-Lewiston Bridge  Queenston, ON  2014-04-04 11:07 EDT   \n",
       "\n",
       "       Commercial Flow Travellers Flow        Date  Month  Year Time_of_Day  \\\n",
       "369413        No Delay        No Delay  2014-04-04      4  2014    13:06:00   \n",
       "369414        No Delay        No Delay  2014-04-04      4  2014    12:05:00   \n",
       "369415        No Delay        No Delay  2014-04-04      4  2014    11:09:00   \n",
       "369416        No Delay        No Delay  2014-04-04      4  2014    11:07:00   \n",
       "369417        No Delay        No Delay  2014-04-04      4  2014    11:07:00   \n",
       "\n",
       "        Hour  Day of Week  Day  Season  Holiday  \n",
       "369413    13            4    4  Spring    False  \n",
       "369414    12            4    4  Spring    False  \n",
       "369415    11            4    4  Spring    False  \n",
       "369416    11            4    4  Spring    False  \n",
       "369417    11            4    4  Spring    False  "
      ]
     },
     "execution_count": 14,
     "metadata": {},
     "output_type": "execute_result"
    }
   ],
   "source": [
    "# create a Holiday variable\n",
    "cal = calendar()\n",
    "holidays = cal.holidays(start=filtered_df1['Date'].min(),end=filtered_df1['Date'].max())\n",
    "filtered_df1['Holiday']= filtered_df1['Date'].isin(holidays)\n",
    "filtered_df1.head()"
   ]
  },
  {
   "cell_type": "markdown",
   "id": "5824e562",
   "metadata": {},
   "source": [
    "## Exploratory Data Analysis\n",
    "\n",
    "Now that we have added the features in our dataframe, let's analyse the distribution of each feature and their relationship with wait time variable for Travellers Flow."
   ]
  },
  {
   "cell_type": "markdown",
   "id": "d7d6291a",
   "metadata": {},
   "source": [
    "Let's start with Day of the week.\n",
    "First, we plot a bar plot and a box plot to visualise the distribution:"
   ]
  },
  {
   "cell_type": "code",
   "execution_count": 15,
   "id": "1e9d2df2",
   "metadata": {},
   "outputs": [
    {
     "data": {
      "text/plain": [
       "<AxesSubplot:>"
      ]
     },
     "execution_count": 15,
     "metadata": {},
     "output_type": "execute_result"
    },
    {
     "data": {
      "image/png": "[encoded data removed]",
      "text/plain": [
       "<Figure size 432x288 with 1 Axes>"
      ]
     },
     "metadata": {
      "needs_background": "light"
     },
     "output_type": "display_data"
    }
   ],
   "source": [
    "# Bar Graph of Day of the week\n",
    "filtered_df1['Day of Week'].value_counts().plot(kind='bar')"
   ]
  },
  {
   "cell_type": "code",
   "execution_count": 16,
   "id": "2eda35a0",
   "metadata": {},
   "outputs": [
    {
     "data": {
      "text/plain": [
       "<AxesSubplot:>"
      ]
     },
     "execution_count": 16,
     "metadata": {},
     "output_type": "execute_result"
    },
    {
     "data": {
      "image/png": "[encoded data removed]",
      "text/plain": [
       "<Figure size 432x288 with 1 Axes>"
      ]
     },
     "metadata": {
      "needs_background": "light"
     },
     "output_type": "display_data"
    }
   ],
   "source": [
    "# Box plot of Day of the week\n",
    "filtered_df1['Day of Week'].value_counts().plot(kind='box')"
   ]
  },
  {
   "cell_type": "markdown",
   "id": "7a0708ba",
   "metadata": {},
   "source": [
    "The traffic looks pretty evenly distributed for the days of the week."
   ]
  },
  {
   "cell_type": "markdown",
   "id": "47a7a92f",
   "metadata": {},
   "source": [
    "Let's also study the relationship between Days of the week and the Travellers Flow using catplot:"
   ]
  },
  {
   "cell_type": "code",
   "execution_count": 17,
   "id": "c6528094",
   "metadata": {},
   "outputs": [
    {
     "data": {
      "text/plain": [
       "<seaborn.axisgrid.FacetGrid at 0x7fe9d6e32a90>"
      ]
     },
     "execution_count": 17,
     "metadata": {},
     "output_type": "execute_result"
    },
    {
     "data": {
      "image/png": "[encoded data removed]",
      "text/plain": [
       "<Figure size 360x360 with 1 Axes>"
      ]
     },
     "metadata": {
      "needs_background": "light"
     },
     "output_type": "display_data"
    }
   ],
   "source": [
    "sns.catplot(data=filtered_df1, x=\"Day of Week\", y=\"Travellers Flow\")"
   ]
  },
  {
   "cell_type": "markdown",
   "id": "edba8ef2",
   "metadata": {},
   "source": [
    "Let's categorize the days of the week into weekdays and weekends:"
   ]
  },
  {
   "cell_type": "code",
   "execution_count": 18,
   "id": "c183bb41",
   "metadata": {
    "scrolled": true
   },
   "outputs": [
    {
     "data": {
      "text/html": [
       "<div>\n",
       "<style scoped>\n",
       "    .dataframe tbody tr th:only-of-type {\n",
       "        vertical-align: middle;\n",
       "    }\n",
       "\n",
       "    .dataframe tbody tr th {\n",
       "        vertical-align: top;\n",
       "    }\n",
       "\n",
       "    .dataframe thead th {\n",
       "        text-align: right;\n",
       "    }\n",
       "</style>\n",
       "<table border=\"1\" class=\"dataframe\">\n",
       "  <thead>\n",
       "    <tr style=\"text-align: right;\">\n",
       "      <th></th>\n",
       "      <th>CBSA Office</th>\n",
       "      <th>Location</th>\n",
       "      <th>Updated</th>\n",
       "      <th>Commercial Flow</th>\n",
       "      <th>Travellers Flow</th>\n",
       "      <th>Date</th>\n",
       "      <th>Month</th>\n",
       "      <th>Year</th>\n",
       "      <th>Time_of_Day</th>\n",
       "      <th>Hour</th>\n",
       "      <th>Day of Week</th>\n",
       "      <th>Day</th>\n",
       "      <th>Season</th>\n",
       "      <th>Holiday</th>\n",
       "    </tr>\n",
       "  </thead>\n",
       "  <tbody>\n",
       "    <tr>\n",
       "      <th>369413</th>\n",
       "      <td>Queenston-Lewiston Bridge</td>\n",
       "      <td>Queenston, ON</td>\n",
       "      <td>2014-04-04 13:06 EDT</td>\n",
       "      <td>No Delay</td>\n",
       "      <td>No Delay</td>\n",
       "      <td>2014-04-04</td>\n",
       "      <td>4</td>\n",
       "      <td>2014</td>\n",
       "      <td>13:06:00</td>\n",
       "      <td>13</td>\n",
       "      <td>Weekday</td>\n",
       "      <td>4</td>\n",
       "      <td>Spring</td>\n",
       "      <td>False</td>\n",
       "    </tr>\n",
       "    <tr>\n",
       "      <th>369414</th>\n",
       "      <td>Queenston-Lewiston Bridge</td>\n",
       "      <td>Queenston, ON</td>\n",
       "      <td>2014-04-04 12:05 EDT</td>\n",
       "      <td>No Delay</td>\n",
       "      <td>No Delay</td>\n",
       "      <td>2014-04-04</td>\n",
       "      <td>4</td>\n",
       "      <td>2014</td>\n",
       "      <td>12:05:00</td>\n",
       "      <td>12</td>\n",
       "      <td>Weekday</td>\n",
       "      <td>4</td>\n",
       "      <td>Spring</td>\n",
       "      <td>False</td>\n",
       "    </tr>\n",
       "    <tr>\n",
       "      <th>369415</th>\n",
       "      <td>Queenston-Lewiston Bridge</td>\n",
       "      <td>Queenston, ON</td>\n",
       "      <td>2014-04-04 11:09 EDT</td>\n",
       "      <td>No Delay</td>\n",
       "      <td>No Delay</td>\n",
       "      <td>2014-04-04</td>\n",
       "      <td>4</td>\n",
       "      <td>2014</td>\n",
       "      <td>11:09:00</td>\n",
       "      <td>11</td>\n",
       "      <td>Weekday</td>\n",
       "      <td>4</td>\n",
       "      <td>Spring</td>\n",
       "      <td>False</td>\n",
       "    </tr>\n",
       "    <tr>\n",
       "      <th>369416</th>\n",
       "      <td>Queenston-Lewiston Bridge</td>\n",
       "      <td>Queenston, ON</td>\n",
       "      <td>2014-04-04 11:07 EDT</td>\n",
       "      <td>No Delay</td>\n",
       "      <td>No Delay</td>\n",
       "      <td>2014-04-04</td>\n",
       "      <td>4</td>\n",
       "      <td>2014</td>\n",
       "      <td>11:07:00</td>\n",
       "      <td>11</td>\n",
       "      <td>Weekday</td>\n",
       "      <td>4</td>\n",
       "      <td>Spring</td>\n",
       "      <td>False</td>\n",
       "    </tr>\n",
       "    <tr>\n",
       "      <th>369417</th>\n",
       "      <td>Queenston-Lewiston Bridge</td>\n",
       "      <td>Queenston, ON</td>\n",
       "      <td>2014-04-04 11:07 EDT</td>\n",
       "      <td>No Delay</td>\n",
       "      <td>No Delay</td>\n",
       "      <td>2014-04-04</td>\n",
       "      <td>4</td>\n",
       "      <td>2014</td>\n",
       "      <td>11:07:00</td>\n",
       "      <td>11</td>\n",
       "      <td>Weekday</td>\n",
       "      <td>4</td>\n",
       "      <td>Spring</td>\n",
       "      <td>False</td>\n",
       "    </tr>\n",
       "  </tbody>\n",
       "</table>\n",
       "</div>"
      ],
      "text/plain": [
       "                      CBSA Office       Location               Updated  \\\n",
       "369413  Queenston-Lewiston Bridge  Queenston, ON  2014-04-04 13:06 EDT   \n",
       "369414  Queenston-Lewiston Bridge  Queenston, ON  2014-04-04 12:05 EDT   \n",
       "369415  Queenston-Lewiston Bridge  Queenston, ON  2014-04-04 11:09 EDT   \n",
       "369416  Queenston-Lewiston Bridge  Queenston, ON  2014-04-04 11:07 EDT   \n",
       "369417  Queenston-Lewiston Bridge  Queenston, ON  2014-04-04 11:07 EDT   \n",
       "\n",
       "       Commercial Flow Travellers Flow        Date  Month  Year Time_of_Day  \\\n",
       "369413        No Delay        No Delay  2014-04-04      4  2014    13:06:00   \n",
       "369414        No Delay        No Delay  2014-04-04      4  2014    12:05:00   \n",
       "369415        No Delay        No Delay  2014-04-04      4  2014    11:09:00   \n",
       "369416        No Delay        No Delay  2014-04-04      4  2014    11:07:00   \n",
       "369417        No Delay        No Delay  2014-04-04      4  2014    11:07:00   \n",
       "\n",
       "        Hour Day of Week  Day  Season  Holiday  \n",
       "369413    13     Weekday    4  Spring    False  \n",
       "369414    12     Weekday    4  Spring    False  \n",
       "369415    11     Weekday    4  Spring    False  \n",
       "369416    11     Weekday    4  Spring    False  \n",
       "369417    11     Weekday    4  Spring    False  "
      ]
     },
     "execution_count": 18,
     "metadata": {},
     "output_type": "execute_result"
    }
   ],
   "source": [
    "filtered_df1['Day of Week'].mask(filtered_df1['Day of Week'] == 0, 'Weekend', inplace =True)\n",
    "filtered_df1['Day of Week'].mask(filtered_df1['Day of Week'] == 1, 'Weekday', inplace =True)\n",
    "filtered_df1['Day of Week'].mask(filtered_df1['Day of Week'] == 2, 'Weekday', inplace =True)\n",
    "filtered_df1['Day of Week'].mask(filtered_df1['Day of Week'] == 3, 'Weekday', inplace =True)\n",
    "filtered_df1['Day of Week'].mask(filtered_df1['Day of Week'] == 4, 'Weekday', inplace =True)\n",
    "filtered_df1['Day of Week'].mask(filtered_df1['Day of Week'] == 5, 'Weekday', inplace =True)\n",
    "filtered_df1['Day of Week'].mask(filtered_df1['Day of Week'] == 6, 'Weekend', inplace =True)\n",
    "filtered_df1.head()"
   ]
  },
  {
   "cell_type": "markdown",
   "id": "874c49da",
   "metadata": {},
   "source": [
    "Like the day of the week, let's analyze all the added features and their relationships with the wait times:"
   ]
  },
  {
   "cell_type": "markdown",
   "id": "978f84b8",
   "metadata": {},
   "source": [
    "#### Distribution of Travellers Flow:"
   ]
  },
  {
   "cell_type": "code",
   "execution_count": 19,
   "id": "28f1e9a9",
   "metadata": {
    "scrolled": true
   },
   "outputs": [
    {
     "data": {
      "text/plain": [
       "<AxesSubplot:>"
      ]
     },
     "execution_count": 19,
     "metadata": {},
     "output_type": "execute_result"
    },
    {
     "data": {
      "image/png": "[encoded data removed]",
      "text/plain": [
       "<Figure size 432x288 with 1 Axes>"
      ]
     },
     "metadata": {
      "needs_background": "light"
     },
     "output_type": "display_data"
    }
   ],
   "source": [
    "# Bar plot\n",
    "filtered_df1['Travellers Flow'].value_counts().plot(kind='bar')"
   ]
  },
  {
   "cell_type": "markdown",
   "id": "593d837d",
   "metadata": {},
   "source": [
    "#### Distribution & Relationship of Days of the month with wait times:"
   ]
  },
  {
   "cell_type": "code",
   "execution_count": 20,
   "id": "de00eb95",
   "metadata": {},
   "outputs": [
    {
     "data": {
      "text/plain": [
       "<AxesSubplot:>"
      ]
     },
     "execution_count": 20,
     "metadata": {},
     "output_type": "execute_result"
    },
    {
     "data": {
      "image/png": "[encoded data removed]",
      "text/plain": [
       "<Figure size 432x288 with 1 Axes>"
      ]
     },
     "metadata": {
      "needs_background": "light"
     },
     "output_type": "display_data"
    }
   ],
   "source": [
    "# Bar Graph of Days of the month\n",
    "filtered_df1['Day'].value_counts().plot(kind='bar')"
   ]
  },
  {
   "cell_type": "code",
   "execution_count": 21,
   "id": "85e39b00",
   "metadata": {},
   "outputs": [
    {
     "data": {
      "text/plain": [
       "<seaborn.axisgrid.FacetGrid at 0x7fe9d60783a0>"
      ]
     },
     "execution_count": 21,
     "metadata": {},
     "output_type": "execute_result"
    },
    {
     "data": {
      "image/png": "[encoded data removed]",
      "text/plain": [
       "<Figure size 360x360 with 1 Axes>"
      ]
     },
     "metadata": {
      "needs_background": "light"
     },
     "output_type": "display_data"
    }
   ],
   "source": [
    "# Catplot\n",
    "sns.catplot(data=filtered_df1, x=\"Day\", y=\"Travellers Flow\")"
   ]
  },
  {
   "cell_type": "markdown",
   "id": "1987f0d0",
   "metadata": {},
   "source": [
    "#### Distribution & Relationship of Years with wait times:"
   ]
  },
  {
   "cell_type": "code",
   "execution_count": 22,
   "id": "d6d63307",
   "metadata": {},
   "outputs": [
    {
     "data": {
      "text/plain": [
       "<AxesSubplot:>"
      ]
     },
     "execution_count": 22,
     "metadata": {},
     "output_type": "execute_result"
    },
    {
     "data": {
      "image/png": "[encoded data removed]",
      "text/plain": [
       "<Figure size 432x288 with 1 Axes>"
      ]
     },
     "metadata": {
      "needs_background": "light"
     },
     "output_type": "display_data"
    }
   ],
   "source": [
    "# Bar Graph for year\n",
    "filtered_df1['Year'].value_counts().plot(kind='bar')"
   ]
  },
  {
   "cell_type": "code",
   "execution_count": 23,
   "id": "01e6fc8a",
   "metadata": {},
   "outputs": [
    {
     "data": {
      "text/plain": [
       "<AxesSubplot:>"
      ]
     },
     "execution_count": 23,
     "metadata": {},
     "output_type": "execute_result"
    },
    {
     "data": {
      "image/png": "[encoded data removed]",
      "text/plain": [
       "<Figure size 432x288 with 1 Axes>"
      ]
     },
     "metadata": {
      "needs_background": "light"
     },
     "output_type": "display_data"
    }
   ],
   "source": [
    "# Box plot for year\n",
    "filtered_df1['Year'].value_counts().plot(kind='box')"
   ]
  },
  {
   "cell_type": "code",
   "execution_count": 24,
   "id": "c52a7c87",
   "metadata": {
    "scrolled": true
   },
   "outputs": [
    {
     "data": {
      "text/plain": [
       "<seaborn.axisgrid.FacetGrid at 0x7fe9d0d5c7f0>"
      ]
     },
     "execution_count": 24,
     "metadata": {},
     "output_type": "execute_result"
    },
    {
     "data": {
      "image/png": "[encoded data removed]",
      "text/plain": [
       "<Figure size 360x360 with 1 Axes>"
      ]
     },
     "metadata": {
      "needs_background": "light"
     },
     "output_type": "display_data"
    }
   ],
   "source": [
    "# Catplot for the relationship between Year and Travellers flow\n",
    "sns.catplot(data=filtered_df1, x=\"Year\", y=\"Travellers Flow\")"
   ]
  },
  {
   "cell_type": "markdown",
   "id": "77a54165",
   "metadata": {},
   "source": [
    "#### Distribution & Relationship of Month with wait times:"
   ]
  },
  {
   "cell_type": "code",
   "execution_count": 25,
   "id": "b7f7e872",
   "metadata": {},
   "outputs": [
    {
     "data": {
      "text/plain": [
       "<AxesSubplot:>"
      ]
     },
     "execution_count": 25,
     "metadata": {},
     "output_type": "execute_result"
    },
    {
     "data": {
      "image/png": "[encoded data removed]",
      "text/plain": [
       "<Figure size 432x288 with 1 Axes>"
      ]
     },
     "metadata": {
      "needs_background": "light"
     },
     "output_type": "display_data"
    }
   ],
   "source": [
    "# Box plot\n",
    "filtered_df1['Month'].value_counts().plot(kind='bar')"
   ]
  },
  {
   "cell_type": "code",
   "execution_count": 26,
   "id": "1b442d93",
   "metadata": {},
   "outputs": [
    {
     "data": {
      "text/plain": [
       "<AxesSubplot:>"
      ]
     },
     "execution_count": 26,
     "metadata": {},
     "output_type": "execute_result"
    },
    {
     "data": {
      "image/png": "[encoded data removed]",
      "text/plain": [
       "<Figure size 432x288 with 1 Axes>"
      ]
     },
     "metadata": {
      "needs_background": "light"
     },
     "output_type": "display_data"
    }
   ],
   "source": [
    "# Box plot\n",
    "filtered_df1['Month'].value_counts().plot(kind='box')"
   ]
  },
  {
   "cell_type": "code",
   "execution_count": 27,
   "id": "b225039f",
   "metadata": {
    "scrolled": true
   },
   "outputs": [
    {
     "data": {
      "text/plain": [
       "<seaborn.axisgrid.FacetGrid at 0x7fe9e55417f0>"
      ]
     },
     "execution_count": 27,
     "metadata": {},
     "output_type": "execute_result"
    },
    {
     "data": {
      "image/png": "[encoded data removed]",
      "text/plain": [
       "<Figure size 360x360 with 1 Axes>"
      ]
     },
     "metadata": {
      "needs_background": "light"
     },
     "output_type": "display_data"
    }
   ],
   "source": [
    "# Catplot for the relationship between Year and Travellers flow\n",
    "sns.catplot(data=filtered_df1, x=\"Month\", y=\"Travellers Flow\")"
   ]
  },
  {
   "cell_type": "markdown",
   "id": "25e46b09",
   "metadata": {},
   "source": [
    "#### Distribution & Relationship of Season with wait times"
   ]
  },
  {
   "cell_type": "code",
   "execution_count": 28,
   "id": "1f020d26",
   "metadata": {},
   "outputs": [
    {
     "data": {
      "text/plain": [
       "<AxesSubplot:>"
      ]
     },
     "execution_count": 28,
     "metadata": {},
     "output_type": "execute_result"
    },
    {
     "data": {
      "image/png": "[encoded data removed]",
      "text/plain": [
       "<Figure size 432x288 with 1 Axes>"
      ]
     },
     "metadata": {
      "needs_background": "light"
     },
     "output_type": "display_data"
    }
   ],
   "source": [
    "# Box plot\n",
    "filtered_df1['Season'].value_counts().plot(kind='bar')"
   ]
  },
  {
   "cell_type": "code",
   "execution_count": 29,
   "id": "bad489d9",
   "metadata": {},
   "outputs": [
    {
     "data": {
      "text/plain": [
       "<seaborn.axisgrid.FacetGrid at 0x7fe9d455b2b0>"
      ]
     },
     "execution_count": 29,
     "metadata": {},
     "output_type": "execute_result"
    },
    {
     "data": {
      "image/png": "[encoded data removed]",
      "text/plain": [
       "<Figure size 360x360 with 1 Axes>"
      ]
     },
     "metadata": {
      "needs_background": "light"
     },
     "output_type": "display_data"
    }
   ],
   "source": [
    "# Catplot for the relationship between Year and Travellers flow\n",
    "sns.catplot(data=filtered_df1, x=\"Season\", y=\"Travellers Flow\")"
   ]
  },
  {
   "cell_type": "markdown",
   "id": "56258888",
   "metadata": {},
   "source": [
    "We see that Spring is the most travelled season and winter is the least travelled one."
   ]
  },
  {
   "cell_type": "markdown",
   "id": "9ce0a3af",
   "metadata": {},
   "source": [
    "#### Distribution of Holiday for observations:"
   ]
  },
  {
   "cell_type": "code",
   "execution_count": 30,
   "id": "6d8c5d72",
   "metadata": {
    "scrolled": true
   },
   "outputs": [
    {
     "data": {
      "text/plain": [
       "<AxesSubplot:>"
      ]
     },
     "execution_count": 30,
     "metadata": {},
     "output_type": "execute_result"
    },
    {
     "data": {
      "image/png": "[encoded data removed]",
      "text/plain": [
       "<Figure size 432x288 with 1 Axes>"
      ]
     },
     "metadata": {
      "needs_background": "light"
     },
     "output_type": "display_data"
    }
   ],
   "source": [
    "# Bar plot of Holiday\n",
    "filtered_df1['Holiday'].value_counts().plot(kind='bar')"
   ]
  },
  {
   "cell_type": "code",
   "execution_count": 31,
   "id": "d394c967",
   "metadata": {},
   "outputs": [
    {
     "data": {
      "text/plain": [
       "<seaborn.axisgrid.FacetGrid at 0x7fe9e613f1f0>"
      ]
     },
     "execution_count": 31,
     "metadata": {},
     "output_type": "execute_result"
    },
    {
     "data": {
      "image/png": "[encoded data removed]",
      "text/plain": [
       "<Figure size 360x360 with 1 Axes>"
      ]
     },
     "metadata": {
      "needs_background": "light"
     },
     "output_type": "display_data"
    }
   ],
   "source": [
    "sns.catplot(data=filtered_df1, x=\"Holiday\", y=\"Travellers Flow\")"
   ]
  },
  {
   "cell_type": "markdown",
   "id": "79f80184",
   "metadata": {},
   "source": [
    "Let's import the second dataset for testing and repeat the same steps for features as the first dataset."
   ]
  },
  {
   "cell_type": "code",
   "execution_count": 32,
   "id": "ba1604b0",
   "metadata": {},
   "outputs": [],
   "source": [
    "# read in the dataset\n",
    "df2 = pd.read_csv(\"/Users/nehaawasthi/Desktop/BANA/Assignment 2/bwt-taf-2015-01-01--2015-03-31-en.csv\")"
   ]
  },
  {
   "cell_type": "code",
   "execution_count": 33,
   "id": "3bb5419e",
   "metadata": {},
   "outputs": [],
   "source": [
    "# filter data for just Queenston-Lewiston Bridge\n",
    "filtered_df2 = df2[df2['CBSA Office'] == 'Queenston-Lewiston Bridge']"
   ]
  },
  {
   "cell_type": "code",
   "execution_count": 34,
   "id": "7337ee7d",
   "metadata": {},
   "outputs": [],
   "source": [
    "# drop Closed values in Travellers Flow\n",
    "indexfiltered = filtered_df2[(filtered_df2['Travellers Flow'] == \"Closed\")].index\n",
    "filtered_df2.drop(indexfiltered, axis =0,  inplace=True)"
   ]
  },
  {
   "cell_type": "code",
   "execution_count": 35,
   "id": "b44d2e41",
   "metadata": {},
   "outputs": [],
   "source": [
    "# Create new time, date, month, year, hour, day of the week, day of the month variables\n",
    "filtered_df2['Date'] = pd.to_datetime(filtered_df2['Updated']).dt.date\n",
    "filtered_df2['Month'] = pd.to_datetime(filtered_df2['Updated']).dt.month\n",
    "filtered_df2['Year'] = pd.to_datetime(filtered_df2['Updated']).dt.year\n",
    "filtered_df2['Time_of_Day'] = pd.to_datetime(filtered_df2['Updated']).dt.time\n",
    "filtered_df2['Hour'] = pd.to_datetime(filtered_df2['Updated']).dt.hour\n",
    "filtered_df2['Day of Week'] = pd.to_datetime(filtered_df2['Updated']).dt.weekday\n",
    "filtered_df2['Day'] = pd.to_datetime(filtered_df2['Updated']).dt.day"
   ]
  },
  {
   "cell_type": "code",
   "execution_count": 36,
   "id": "908d110c",
   "metadata": {},
   "outputs": [],
   "source": [
    "# Create variables for seasons\n",
    "season_con =[(filtered_df2['Month'] > 6) & (filtered_df2['Month'] <= 9),(filtered_df2['Month']>= 10) & \n",
    "             (filtered_df2['Month']<= 12),(filtered_df2['Month']>= 1)& \n",
    "             (filtered_df2['Month'] <= 3),(filtered_df2['Month'] >= 4)& (filtered_df2['Month']<= 6)]\n",
    "season_options = ['Summer', 'Autumn', 'Winter', 'Spring']\n",
    "\n",
    "filtered_df2['Season'] = np.select(season_con, season_options, default=np.nan)"
   ]
  },
  {
   "cell_type": "code",
   "execution_count": 37,
   "id": "3ee68bf4",
   "metadata": {},
   "outputs": [],
   "source": [
    "# create holiday variable\n",
    "cale = calendar()\n",
    "holidays = cale.holidays(start=filtered_df2['Date'].min(),end=filtered_df2['Date'].max())\n",
    "filtered_df2['Holiday']= filtered_df2['Date'].isin(holidays)"
   ]
  },
  {
   "cell_type": "code",
   "execution_count": 38,
   "id": "55188713",
   "metadata": {},
   "outputs": [],
   "source": [
    "# drop missed entries\n",
    "filtered_df2 = filtered_df2[filtered_df2['Travellers Flow'] != 'Missed entry']"
   ]
  },
  {
   "cell_type": "markdown",
   "id": "48f2f61e",
   "metadata": {},
   "source": [
    "## Regression Models:\n",
    "Let's manipulate the datasets so as to fit the data for the models. We will create different wait time columns for both the models and create different numeric variables for modeling. "
   ]
  },
  {
   "cell_type": "code",
   "execution_count": 39,
   "id": "8bb19fa9",
   "metadata": {},
   "outputs": [],
   "source": [
    "# Create the two wait time columns for OLS (Continuous) and logistic (Categorical) regression\n",
    "filtered_df1['Continuous Wait Time'] = filtered_df1['Travellers Flow']\n",
    "filtered_df1['Categorical Wait Time'] = filtered_df1['Travellers Flow']\n",
    "filtered_df2['Continuous Wait Time'] = filtered_df2['Travellers Flow']\n",
    "filtered_df2['Categorical Wait Time'] = filtered_df2['Travellers Flow']"
   ]
  },
  {
   "cell_type": "code",
   "execution_count": 40,
   "id": "763c09a6",
   "metadata": {},
   "outputs": [],
   "source": [
    "# Convert column values to numeric for modeling\n",
    "filtered_df1['Continuous Wait Time'].mask(filtered_df1['Continuous Wait Time'] == 'No Delay', 0, inplace=True)\n",
    "filtered_df1['Categorical Wait Time'].mask(filtered_df1['Categorical Wait Time'] == 'No Delay', 'Low', inplace=True)\n",
    "filtered_df1['Categorical Wait Time'].mask(filtered_df1['Categorical Wait Time'] == '10', 'Low', inplace=True)\n",
    "filtered_df1['Categorical Wait Time'].mask(filtered_df1['Categorical Wait Time'] == '20', 'Low', inplace=True)\n",
    "filtered_df1['Categorical Wait Time'].mask(filtered_df1['Categorical Wait Time'] == '30', 'High', inplace=True)\n",
    "filtered_df1['Categorical Wait Time'].mask(filtered_df1['Categorical Wait Time'] == '45', 'High', inplace=True)\n",
    "filtered_df1['Categorical Wait Time'].mask(filtered_df1['Categorical Wait Time'] == '60', 'High', inplace=True)\n",
    "filtered_df1['Categorical Wait Time'].mask(filtered_df1['Categorical Wait Time'] == '75', 'High', inplace=True)\n",
    "filtered_df1['Categorical Wait Time'].mask(filtered_df1['Categorical Wait Time'] == '90', 'High', inplace=True)\n",
    "filtered_df1['Categorical Wait Time'].mask(filtered_df1['Categorical Wait Time'] == '105', 'High', inplace=True)\n",
    "filtered_df1['Categorical Wait Time'].mask(filtered_df1['Categorical Wait Time'] == '120', 'High', inplace=True)\n",
    "filtered_df1['Categorical Wait Time'].mask(filtered_df1['Categorical Wait Time'] == '135', 'High', inplace=True)\n",
    "filtered_df1['Categorical Wait Time'].mask(filtered_df1['Categorical Wait Time'] == '150', 'High', inplace=True)\n",
    "filtered_df1['Categorical Wait Time'].mask(filtered_df1['Categorical Wait Time'] == '420', 'High', inplace=True)\n",
    "filtered_df1['Categorical Wait Time'].mask(filtered_df1['Categorical Wait Time'] == 'Low', 0, inplace=True)\n",
    "filtered_df1['Categorical Wait Time'].mask(filtered_df1['Categorical Wait Time'] == 'High', 1, inplace=True)\n",
    "filtered_df1['Holiday'].mask(filtered_df1['Holiday'] == False, 0, inplace=True)\n",
    "filtered_df1['Holiday'].mask(filtered_df1['Holiday'] == True, 1, inplace=True)\n",
    "filtered_df1['Day of Week'].mask(filtered_df1['Day of Week'] == 'Weekday', 0, inplace=True)\n",
    "filtered_df1['Day of Week'].mask(filtered_df1['Day of Week'] == 'Weekend', 1, inplace=True)\n",
    "filtered_df1['Season'].mask(filtered_df1['Season'] == 'Summer', 1, inplace=True)\n",
    "filtered_df1['Season'].mask(filtered_df1['Season'] == 'Autumn', 2, inplace=True)\n",
    "filtered_df1['Season'].mask(filtered_df1['Season'] == 'Winter', 3, inplace=True)\n",
    "filtered_df1['Season'].mask(filtered_df1['Season'] == 'Spring', 4, inplace=True)\n",
    "filtered_df2['Continuous Wait Time'].mask(filtered_df2['Continuous Wait Time'] == 'No delay', 0, inplace=True)\n",
    "filtered_df2['Categorical Wait Time'].mask(filtered_df2['Categorical Wait Time'] == 'No delay', 'Low', inplace=True)\n",
    "filtered_df2['Categorical Wait Time'].mask(filtered_df2['Categorical Wait Time'] == '1', 'Low', inplace=True)\n",
    "filtered_df2['Categorical Wait Time'].mask(filtered_df2['Categorical Wait Time'] == '2', 'Low', inplace=True)\n",
    "filtered_df2['Categorical Wait Time'].mask(filtered_df2['Categorical Wait Time'] == '3', 'Low', inplace=True)\n",
    "filtered_df2['Categorical Wait Time'].mask(filtered_df2['Categorical Wait Time'] == '4', 'Low', inplace=True)\n",
    "filtered_df2['Categorical Wait Time'].mask(filtered_df2['Categorical Wait Time'] == '5', 'Low', inplace=True)\n",
    "filtered_df2['Categorical Wait Time'].mask(filtered_df2['Categorical Wait Time'] == '6', 'Low', inplace=True)\n",
    "filtered_df2['Categorical Wait Time'].mask(filtered_df2['Categorical Wait Time'] == '7', 'Low', inplace=True)\n",
    "filtered_df2['Categorical Wait Time'].mask(filtered_df2['Categorical Wait Time'] == '8', 'Low', inplace=True)\n",
    "filtered_df2['Categorical Wait Time'].mask(filtered_df2['Categorical Wait Time'] == '9', 'Low', inplace=True)\n",
    "filtered_df2['Categorical Wait Time'].mask(filtered_df2['Categorical Wait Time'] == '10', 'Low', inplace=True)\n",
    "filtered_df2['Categorical Wait Time'].mask(filtered_df2['Categorical Wait Time'] == '11', 'Low', inplace=True)\n",
    "filtered_df2['Categorical Wait Time'].mask(filtered_df2['Categorical Wait Time'] == '12', 'Low', inplace=True)\n",
    "filtered_df2['Categorical Wait Time'].mask(filtered_df2['Categorical Wait Time'] == '13', 'Low', inplace=True)\n",
    "filtered_df2['Categorical Wait Time'].mask(filtered_df2['Categorical Wait Time'] == '14', 'Low', inplace=True)\n",
    "filtered_df2['Categorical Wait Time'].mask(filtered_df2['Categorical Wait Time'] == '15', 'Low', inplace=True)\n",
    "filtered_df2['Categorical Wait Time'].mask(filtered_df2['Categorical Wait Time'] == '16', 'Low', inplace=True)\n",
    "filtered_df2['Categorical Wait Time'].mask(filtered_df2['Categorical Wait Time'] == '17', 'Low', inplace=True)\n",
    "filtered_df2['Categorical Wait Time'].mask(filtered_df2['Categorical Wait Time'] == '18', 'Low', inplace=True)\n",
    "filtered_df2['Categorical Wait Time'].mask(filtered_df2['Categorical Wait Time'] == '19', 'Low', inplace=True)\n",
    "filtered_df2['Categorical Wait Time'].mask(filtered_df2['Categorical Wait Time'] == '20', 'Low', inplace=True)\n",
    "filtered_df2['Categorical Wait Time'].mask(filtered_df2['Categorical Wait Time'] == '21', 'Low', inplace=True)\n",
    "filtered_df2['Categorical Wait Time'].mask(filtered_df2['Categorical Wait Time'] == '22', 'Low', inplace=True)\n",
    "filtered_df2['Categorical Wait Time'].mask(filtered_df2['Categorical Wait Time'] == '23', 'Low', inplace=True)\n",
    "filtered_df2['Categorical Wait Time'].mask(filtered_df2['Categorical Wait Time'] == '24', 'Low', inplace=True)\n",
    "filtered_df2['Categorical Wait Time'].mask(filtered_df2['Categorical Wait Time'] == '25', 'Low', inplace=True)\n",
    "filtered_df2['Categorical Wait Time'].mask(filtered_df2['Categorical Wait Time'] == '26', 'Low', inplace=True)\n",
    "filtered_df2['Categorical Wait Time'].mask(filtered_df2['Categorical Wait Time'] == '27', 'Low', inplace=True)\n",
    "filtered_df2['Categorical Wait Time'].mask(filtered_df2['Categorical Wait Time'] == '28', 'High', inplace=True)\n",
    "filtered_df2['Categorical Wait Time'].mask(filtered_df2['Categorical Wait Time'] == '29', 'High', inplace=True)\n",
    "filtered_df2['Categorical Wait Time'].mask(filtered_df2['Categorical Wait Time'] == '30', 'High', inplace=True)\n",
    "filtered_df2['Categorical Wait Time'].mask(filtered_df2['Categorical Wait Time'] == '31', 'High', inplace=True)\n",
    "filtered_df2['Categorical Wait Time'].mask(filtered_df2['Categorical Wait Time'] == '32', 'High', inplace=True)\n",
    "filtered_df2['Categorical Wait Time'].mask(filtered_df2['Categorical Wait Time'] == '33', 'High', inplace=True)\n",
    "filtered_df2['Categorical Wait Time'].mask(filtered_df2['Categorical Wait Time'] == '34', 'High', inplace=True)\n",
    "filtered_df2['Categorical Wait Time'].mask(filtered_df2['Categorical Wait Time'] == '35', 'High', inplace=True)\n",
    "filtered_df2['Categorical Wait Time'].mask(filtered_df2['Categorical Wait Time'] == '36', 'High', inplace=True)\n",
    "filtered_df2['Categorical Wait Time'].mask(filtered_df2['Categorical Wait Time'] == '40', 'High', inplace=True)\n",
    "filtered_df2['Categorical Wait Time'].mask(filtered_df2['Categorical Wait Time'] == '41', 'High', inplace=True)\n",
    "filtered_df2['Categorical Wait Time'].mask(filtered_df2['Categorical Wait Time'] == '42', 'High', inplace=True)\n",
    "filtered_df2['Categorical Wait Time'].mask(filtered_df2['Categorical Wait Time'] == '43', 'High', inplace=True)\n",
    "filtered_df2['Categorical Wait Time'].mask(filtered_df2['Categorical Wait Time'] == '44', 'High', inplace=True)\n",
    "filtered_df2['Categorical Wait Time'].mask(filtered_df2['Categorical Wait Time'] == 'Low', 0, inplace=True)\n",
    "filtered_df2['Categorical Wait Time'].mask(filtered_df2['Categorical Wait Time'] == 'High', 1, inplace=True)\n",
    "filtered_df2['Holiday'].mask(filtered_df2['Holiday'] == False, 0, inplace=True)\n",
    "filtered_df2['Holiday'].mask(filtered_df2['Holiday'] == True, 1, inplace=True)\n",
    "filtered_df2['Day of Week'].mask(filtered_df2['Day of Week'] == 'Weekday', 0, inplace=True)\n",
    "filtered_df2['Day of Week'].mask(filtered_df2['Day of Week'] == 'Weekend', 1, inplace=True)\n",
    "filtered_df2['Season'].mask(filtered_df2['Season'] == 'Summer', 1, inplace=True)\n",
    "filtered_df2['Season'].mask(filtered_df2['Season'] == 'Autumn', 2, inplace=True)\n",
    "filtered_df2['Season'].mask(filtered_df2['Season'] == 'Winter', 3, inplace=True)\n",
    "filtered_df2['Season'].mask(filtered_df2['Season'] == 'Spring', 4, inplace=True)"
   ]
  },
  {
   "cell_type": "markdown",
   "id": "b65f71a6",
   "metadata": {},
   "source": [
    "Export the cleaned data sets and read them back in for training and testing."
   ]
  },
  {
   "cell_type": "code",
   "execution_count": 41,
   "id": "4e97d023",
   "metadata": {},
   "outputs": [],
   "source": [
    "# Export cleaned dataset to csv to read in for modeling\n",
    "filtered_df1.to_csv('/Users/nehaawasthi/Desktop/BANA/Assignment 2/Train_Data.csv')\n",
    "filtered_df2.to_csv('/Users/nehaawasthi/Desktop/BANA/Assignment 2/Test_Data.csv')"
   ]
  },
  {
   "cell_type": "code",
   "execution_count": 42,
   "id": "f51f1f01",
   "metadata": {},
   "outputs": [],
   "source": [
    "# Read back in the datasets cleaned for modeling\n",
    "Train = pd.read_csv('/Users/nehaawasthi/Desktop/BANA/Assignment 2/Train_Data.csv')\n",
    "Test = pd.read_csv('/Users/nehaawasthi/Desktop/BANA/Assignment 2/Test_Data.csv')"
   ]
  },
  {
   "cell_type": "code",
   "execution_count": 43,
   "id": "0f521980",
   "metadata": {},
   "outputs": [],
   "source": [
    "# rename columns to be inserted into models\n",
    "Train.rename(columns = {'Day of Week':'Day_of_Week', 'Continuous Wait Time':'Continuous_Wait_Time', 'Categorical Wait Time':'Categorical_Wait_Time'}, inplace = True)\n",
    "Test.rename(columns = {'Day of Week':'Day_of_Week', 'Continuous Wait Time':'Continuous_Wait_Time', 'Categorical Wait Time':'Categorical_Wait_Time'}, inplace = True)"
   ]
  },
  {
   "cell_type": "markdown",
   "id": "53d80b47",
   "metadata": {},
   "source": [
    "## OLS Regression Model\n",
    "We will use relevant variables from our analysis and run the OLS regression model first."
   ]
  },
  {
   "cell_type": "code",
   "execution_count": 44,
   "id": "77f23d17",
   "metadata": {},
   "outputs": [
    {
     "data": {
      "text/html": [
       "<table class=\"simpletable\">\n",
       "<caption>OLS Regression Results</caption>\n",
       "<tr>\n",
       "  <th>Dep. Variable:</th>    <td>Continuous_Wait_Time</td> <th>  R-squared:         </th>  <td>   0.101</td>  \n",
       "</tr>\n",
       "<tr>\n",
       "  <th>Model:</th>                     <td>OLS</td>         <th>  Adj. R-squared:    </th>  <td>   0.101</td>  \n",
       "</tr>\n",
       "<tr>\n",
       "  <th>Method:</th>               <td>Least Squares</td>    <th>  F-statistic:       </th>  <td>   827.8</td>  \n",
       "</tr>\n",
       "<tr>\n",
       "  <th>Date:</th>               <td>Fri, 18 Nov 2022</td>   <th>  Prob (F-statistic):</th>   <td>  0.00</td>   \n",
       "</tr>\n",
       "<tr>\n",
       "  <th>Time:</th>                   <td>11:03:05</td>       <th>  Log-Likelihood:    </th> <td>-1.7646e+05</td>\n",
       "</tr>\n",
       "<tr>\n",
       "  <th>No. Observations:</th>        <td> 44222</td>        <th>  AIC:               </th>  <td>3.529e+05</td> \n",
       "</tr>\n",
       "<tr>\n",
       "  <th>Df Residuals:</th>            <td> 44215</td>        <th>  BIC:               </th>  <td>3.530e+05</td> \n",
       "</tr>\n",
       "<tr>\n",
       "  <th>Df Model:</th>                <td>     6</td>        <th>                     </th>      <td> </td>     \n",
       "</tr>\n",
       "<tr>\n",
       "  <th>Covariance Type:</th>        <td>nonrobust</td>      <th>                     </th>      <td> </td>     \n",
       "</tr>\n",
       "</table>\n",
       "<table class=\"simpletable\">\n",
       "<tr>\n",
       "       <td></td>          <th>coef</th>     <th>std err</th>      <th>t</th>      <th>P>|t|</th>  <th>[0.025</th>    <th>0.975]</th>  \n",
       "</tr>\n",
       "<tr>\n",
       "  <th>Intercept</th>   <td> -196.6775</td> <td>  105.367</td> <td>   -1.867</td> <td> 0.062</td> <td> -403.198</td> <td>    9.843</td>\n",
       "</tr>\n",
       "<tr>\n",
       "  <th>Holiday</th>     <td>   -4.2957</td> <td>    2.674</td> <td>   -1.606</td> <td> 0.108</td> <td>   -9.537</td> <td>    0.946</td>\n",
       "</tr>\n",
       "<tr>\n",
       "  <th>Day_of_Week</th> <td>    3.6256</td> <td>    0.137</td> <td>   26.377</td> <td> 0.000</td> <td>    3.356</td> <td>    3.895</td>\n",
       "</tr>\n",
       "<tr>\n",
       "  <th>Hour</th>        <td>    0.5449</td> <td>    0.009</td> <td>   60.819</td> <td> 0.000</td> <td>    0.527</td> <td>    0.562</td>\n",
       "</tr>\n",
       "<tr>\n",
       "  <th>Year</th>        <td>    0.0980</td> <td>    0.052</td> <td>    1.871</td> <td> 0.061</td> <td>   -0.005</td> <td>    0.201</td>\n",
       "</tr>\n",
       "<tr>\n",
       "  <th>Day</th>         <td>    0.0290</td> <td>    0.007</td> <td>    4.096</td> <td> 0.000</td> <td>    0.015</td> <td>    0.043</td>\n",
       "</tr>\n",
       "<tr>\n",
       "  <th>Season</th>      <td>   -1.2892</td> <td>    0.056</td> <td>  -22.861</td> <td> 0.000</td> <td>   -1.400</td> <td>   -1.179</td>\n",
       "</tr>\n",
       "</table>\n",
       "<table class=\"simpletable\">\n",
       "<tr>\n",
       "  <th>Omnibus:</th>       <td>50744.671</td> <th>  Durbin-Watson:     </th>   <td>   0.545</td>  \n",
       "</tr>\n",
       "<tr>\n",
       "  <th>Prob(Omnibus):</th>  <td> 0.000</td>   <th>  Jarque-Bera (JB):  </th> <td>20145617.924</td>\n",
       "</tr>\n",
       "<tr>\n",
       "  <th>Skew:</th>           <td> 5.496</td>   <th>  Prob(JB):          </th>   <td>    0.00</td>  \n",
       "</tr>\n",
       "<tr>\n",
       "  <th>Kurtosis:</th>       <td>106.983</td>  <th>  Cond. No.          </th>   <td>3.41e+06</td>  \n",
       "</tr>\n",
       "</table><br/><br/>Notes:<br/>[1] Standard Errors assume that the covariance matrix of the errors is correctly specified.<br/>[2] The condition number is large, 3.41e+06. This might indicate that there are<br/>strong multicollinearity or other numerical problems."
      ],
      "text/plain": [
       "<class 'statsmodels.iolib.summary.Summary'>\n",
       "\"\"\"\n",
       "                             OLS Regression Results                             \n",
       "================================================================================\n",
       "Dep. Variable:     Continuous_Wait_Time   R-squared:                       0.101\n",
       "Model:                              OLS   Adj. R-squared:                  0.101\n",
       "Method:                   Least Squares   F-statistic:                     827.8\n",
       "Date:                  Fri, 18 Nov 2022   Prob (F-statistic):               0.00\n",
       "Time:                          11:03:05   Log-Likelihood:            -1.7646e+05\n",
       "No. Observations:                 44222   AIC:                         3.529e+05\n",
       "Df Residuals:                     44215   BIC:                         3.530e+05\n",
       "Df Model:                             6                                         \n",
       "Covariance Type:              nonrobust                                         \n",
       "===============================================================================\n",
       "                  coef    std err          t      P>|t|      [0.025      0.975]\n",
       "-------------------------------------------------------------------------------\n",
       "Intercept    -196.6775    105.367     -1.867      0.062    -403.198       9.843\n",
       "Holiday        -4.2957      2.674     -1.606      0.108      -9.537       0.946\n",
       "Day_of_Week     3.6256      0.137     26.377      0.000       3.356       3.895\n",
       "Hour            0.5449      0.009     60.819      0.000       0.527       0.562\n",
       "Year            0.0980      0.052      1.871      0.061      -0.005       0.201\n",
       "Day             0.0290      0.007      4.096      0.000       0.015       0.043\n",
       "Season         -1.2892      0.056    -22.861      0.000      -1.400      -1.179\n",
       "==============================================================================\n",
       "Omnibus:                    50744.671   Durbin-Watson:                   0.545\n",
       "Prob(Omnibus):                  0.000   Jarque-Bera (JB):         20145617.924\n",
       "Skew:                           5.496   Prob(JB):                         0.00\n",
       "Kurtosis:                     106.983   Cond. No.                     3.41e+06\n",
       "==============================================================================\n",
       "\n",
       "Notes:\n",
       "[1] Standard Errors assume that the covariance matrix of the errors is correctly specified.\n",
       "[2] The condition number is large, 3.41e+06. This might indicate that there are\n",
       "strong multicollinearity or other numerical problems.\n",
       "\"\"\""
      ]
     },
     "execution_count": 44,
     "metadata": {},
     "output_type": "execute_result"
    }
   ],
   "source": [
    "# fit our OLS model based on the relevant variables\n",
    "fl = \"Continuous_Wait_Time ~ Holiday + Day_of_Week + Hour + Year + Day + Season\"\n",
    "ols_model = sm.ols(formula=fl, data=Train).fit()\n",
    "ols_model.summary()"
   ]
  },
  {
   "cell_type": "code",
   "execution_count": 45,
   "id": "3e8153cc",
   "metadata": {},
   "outputs": [],
   "source": [
    "# define the dependent and independent variables\n",
    "XTest1 = Test[['Holiday','Day_of_Week','Hour','Year','Day', 'Season']]\n",
    "YTest1 = Test['Continuous_Wait_Time']\n",
    "  \n",
    "# perform predictions on the test datdaset\n",
    "yhat1 = ols_model.predict(XTest1)\n",
    "prediction1 = list(map(round, yhat1))"
   ]
  },
  {
   "cell_type": "code",
   "execution_count": 46,
   "id": "e97e59c1",
   "metadata": {},
   "outputs": [
    {
     "name": "stdout",
     "output_type": "stream",
     "text": [
      "Confusion Matrix : \n",
      " [[0 0 0 ... 0 0 0]\n",
      " [0 0 0 ... 0 0 0]\n",
      " [0 0 0 ... 0 0 0]\n",
      " ...\n",
      " [0 0 0 ... 0 0 0]\n",
      " [0 0 0 ... 0 0 0]\n",
      " [0 0 0 ... 0 0 0]]\n",
      "Test accuracy =  0.014836109756410585\n"
     ]
    }
   ],
   "source": [
    "# get the confusion matrix\n",
    "cm = confusion_matrix(YTest1, prediction1) \n",
    "print (\"Confusion Matrix : \\n\", cm) \n",
    "  \n",
    "# check the accuracy score of the model\n",
    "print('Test accuracy = ', accuracy_score(YTest1, prediction1))"
   ]
  },
  {
   "cell_type": "markdown",
   "id": "c9ee13f9",
   "metadata": {},
   "source": [
    "The extremely low R-squared and test accuracy suggest that this is not a good model to predict Traveller's wait times."
   ]
  },
  {
   "cell_type": "markdown",
   "id": "6499890a",
   "metadata": {},
   "source": [
    "### Logistic Model\n",
    "Let's build a logistic regression model using the same variables."
   ]
  },
  {
   "cell_type": "code",
   "execution_count": 47,
   "id": "e4a9904a",
   "metadata": {},
   "outputs": [
    {
     "name": "stdout",
     "output_type": "stream",
     "text": [
      "Warning: Maximum number of iterations has been exceeded.\n",
      "         Current function value: 0.262111\n",
      "         Iterations: 35\n"
     ]
    },
    {
     "data": {
      "text/html": [
       "<table class=\"simpletable\">\n",
       "<caption>Logit Regression Results</caption>\n",
       "<tr>\n",
       "  <th>Dep. Variable:</th>   <td>Categorical_Wait_Time</td> <th>  No. Observations:  </th>  <td> 44222</td> \n",
       "</tr>\n",
       "<tr>\n",
       "  <th>Model:</th>                   <td>Logit</td>         <th>  Df Residuals:      </th>  <td> 44214</td> \n",
       "</tr>\n",
       "<tr>\n",
       "  <th>Method:</th>                   <td>MLE</td>          <th>  Df Model:          </th>  <td>     7</td> \n",
       "</tr>\n",
       "<tr>\n",
       "  <th>Date:</th>              <td>Fri, 18 Nov 2022</td>    <th>  Pseudo R-squ.:     </th>  <td>0.1382</td> \n",
       "</tr>\n",
       "<tr>\n",
       "  <th>Time:</th>                  <td>11:03:05</td>        <th>  Log-Likelihood:    </th> <td> -11591.</td>\n",
       "</tr>\n",
       "<tr>\n",
       "  <th>converged:</th>               <td>False</td>         <th>  LL-Null:           </th> <td> -13450.</td>\n",
       "</tr>\n",
       "<tr>\n",
       "  <th>Covariance Type:</th>       <td>nonrobust</td>       <th>  LLR p-value:       </th>  <td> 0.000</td> \n",
       "</tr>\n",
       "</table>\n",
       "<table class=\"simpletable\">\n",
       "<tr>\n",
       "       <td></td>          <th>coef</th>     <th>std err</th>      <th>z</th>      <th>P>|z|</th>  <th>[0.025</th>    <th>0.975]</th>  \n",
       "</tr>\n",
       "<tr>\n",
       "  <th>Intercept</th>   <td>  -53.4025</td> <td>   30.687</td> <td>   -1.740</td> <td> 0.082</td> <td> -113.547</td> <td>    6.742</td>\n",
       "</tr>\n",
       "<tr>\n",
       "  <th>Holiday</th>     <td>  -10.9188</td> <td>  166.997</td> <td>   -0.065</td> <td> 0.948</td> <td> -338.227</td> <td>  316.389</td>\n",
       "</tr>\n",
       "<tr>\n",
       "  <th>Day_of_Week</th> <td>    0.8164</td> <td>    0.035</td> <td>   23.029</td> <td> 0.000</td> <td>    0.747</td> <td>    0.886</td>\n",
       "</tr>\n",
       "<tr>\n",
       "  <th>Month</th>       <td>    0.0097</td> <td>    0.006</td> <td>    1.524</td> <td> 0.127</td> <td>   -0.003</td> <td>    0.022</td>\n",
       "</tr>\n",
       "<tr>\n",
       "  <th>Season</th>      <td>   -0.3447</td> <td>    0.020</td> <td>  -17.418</td> <td> 0.000</td> <td>   -0.384</td> <td>   -0.306</td>\n",
       "</tr>\n",
       "<tr>\n",
       "  <th>Hour</th>        <td>    0.1451</td> <td>    0.003</td> <td>   46.178</td> <td> 0.000</td> <td>    0.139</td> <td>    0.151</td>\n",
       "</tr>\n",
       "<tr>\n",
       "  <th>Day</th>         <td>    0.0060</td> <td>    0.002</td> <td>    3.029</td> <td> 0.002</td> <td>    0.002</td> <td>    0.010</td>\n",
       "</tr>\n",
       "<tr>\n",
       "  <th>Year</th>        <td>    0.0245</td> <td>    0.015</td> <td>    1.609</td> <td> 0.108</td> <td>   -0.005</td> <td>    0.054</td>\n",
       "</tr>\n",
       "</table>"
      ],
      "text/plain": [
       "<class 'statsmodels.iolib.summary.Summary'>\n",
       "\"\"\"\n",
       "                             Logit Regression Results                            \n",
       "=================================================================================\n",
       "Dep. Variable:     Categorical_Wait_Time   No. Observations:                44222\n",
       "Model:                             Logit   Df Residuals:                    44214\n",
       "Method:                              MLE   Df Model:                            7\n",
       "Date:                   Fri, 18 Nov 2022   Pseudo R-squ.:                  0.1382\n",
       "Time:                           11:03:05   Log-Likelihood:                -11591.\n",
       "converged:                         False   LL-Null:                       -13450.\n",
       "Covariance Type:               nonrobust   LLR p-value:                     0.000\n",
       "===============================================================================\n",
       "                  coef    std err          z      P>|z|      [0.025      0.975]\n",
       "-------------------------------------------------------------------------------\n",
       "Intercept     -53.4025     30.687     -1.740      0.082    -113.547       6.742\n",
       "Holiday       -10.9188    166.997     -0.065      0.948    -338.227     316.389\n",
       "Day_of_Week     0.8164      0.035     23.029      0.000       0.747       0.886\n",
       "Month           0.0097      0.006      1.524      0.127      -0.003       0.022\n",
       "Season         -0.3447      0.020    -17.418      0.000      -0.384      -0.306\n",
       "Hour            0.1451      0.003     46.178      0.000       0.139       0.151\n",
       "Day             0.0060      0.002      3.029      0.002       0.002       0.010\n",
       "Year            0.0245      0.015      1.609      0.108      -0.005       0.054\n",
       "===============================================================================\n",
       "\"\"\""
      ]
     },
     "execution_count": 47,
     "metadata": {},
     "output_type": "execute_result"
    }
   ],
   "source": [
    "# fit our Logistic model\n",
    "f2 = \"Categorical_Wait_Time ~ Holiday + Day_of_Week+ Month + Season + Hour + Day + Year\"\n",
    "logit_model = sm.logit(formula=f2, data=Train).fit()\n",
    "logit_model.summary()"
   ]
  },
  {
   "cell_type": "code",
   "execution_count": 48,
   "id": "15790b06",
   "metadata": {},
   "outputs": [],
   "source": [
    "# define the dependent and independent variables\n",
    "XTest2 = Test[['Holiday','Day_of_Week','Hour','Year','Day', 'Month', 'Season']]\n",
    "YTest2 = Test['Categorical_Wait_Time'] \n",
    "  \n",
    "# perform the predictions on the test datdaset\n",
    "yhat2 = logit_model.predict(XTest2)\n",
    "prediction2 = list(map(round, yhat2))"
   ]
  },
  {
   "cell_type": "markdown",
   "id": "5448c9f3",
   "metadata": {},
   "source": [
    "Run the confusion matrix and get the accuracy"
   ]
  },
  {
   "cell_type": "code",
   "execution_count": 49,
   "id": "8dec2498",
   "metadata": {},
   "outputs": [
    {
     "name": "stdout",
     "output_type": "stream",
     "text": [
      "Confusion Matrix : \n",
      " [[24871 14057]\n",
      " [    0    31]]\n",
      "Test accuracy =  0.6391847840036962\n"
     ]
    }
   ],
   "source": [
    "# Get confusion matrix\n",
    "cm = confusion_matrix(YTest2, prediction2) \n",
    "print (\"Confusion Matrix : \\n\", cm) \n",
    "  \n",
    "# accuracy score of the model\n",
    "print('Test accuracy = ', accuracy_score(YTest2, prediction2))"
   ]
  },
  {
   "cell_type": "markdown",
   "id": "b8c45a12",
   "metadata": {},
   "source": [
    "We ran mutiple variations of the model tinkering with various features and dropped the insignificant variables and used the variables that yeild the best accuracy."
   ]
  },
  {
   "cell_type": "markdown",
   "id": "605957fd",
   "metadata": {},
   "source": [
    "We now run the best logistic regression model we got by using the given variables."
   ]
  },
  {
   "cell_type": "code",
   "execution_count": 50,
   "id": "e5ed8b6e",
   "metadata": {},
   "outputs": [
    {
     "name": "stdout",
     "output_type": "stream",
     "text": [
      "Warning: Maximum number of iterations has been exceeded.\n",
      "         Current function value: 0.265679\n",
      "         Iterations: 35\n"
     ]
    },
    {
     "data": {
      "text/html": [
       "<table class=\"simpletable\">\n",
       "<caption>Logit Regression Results</caption>\n",
       "<tr>\n",
       "  <th>Dep. Variable:</th>   <td>Categorical_Wait_Time</td> <th>  No. Observations:  </th>  <td> 44222</td> \n",
       "</tr>\n",
       "<tr>\n",
       "  <th>Model:</th>                   <td>Logit</td>         <th>  Df Residuals:      </th>  <td> 44216</td> \n",
       "</tr>\n",
       "<tr>\n",
       "  <th>Method:</th>                   <td>MLE</td>          <th>  Df Model:          </th>  <td>     5</td> \n",
       "</tr>\n",
       "<tr>\n",
       "  <th>Date:</th>              <td>Fri, 18 Nov 2022</td>    <th>  Pseudo R-squ.:     </th>  <td>0.1265</td> \n",
       "</tr>\n",
       "<tr>\n",
       "  <th>Time:</th>                  <td>11:03:05</td>        <th>  Log-Likelihood:    </th> <td> -11749.</td>\n",
       "</tr>\n",
       "<tr>\n",
       "  <th>converged:</th>               <td>False</td>         <th>  LL-Null:           </th> <td> -13450.</td>\n",
       "</tr>\n",
       "<tr>\n",
       "  <th>Covariance Type:</th>       <td>nonrobust</td>       <th>  LLR p-value:       </th>  <td> 0.000</td> \n",
       "</tr>\n",
       "</table>\n",
       "<table class=\"simpletable\">\n",
       "<tr>\n",
       "       <td></td>          <th>coef</th>     <th>std err</th>      <th>z</th>      <th>P>|z|</th>  <th>[0.025</th>    <th>0.975]</th>  \n",
       "</tr>\n",
       "<tr>\n",
       "  <th>Intercept</th>   <td>   -5.2395</td> <td>    0.075</td> <td>  -69.482</td> <td> 0.000</td> <td>   -5.387</td> <td>   -5.092</td>\n",
       "</tr>\n",
       "<tr>\n",
       "  <th>Day_of_Week</th> <td>    0.8106</td> <td>    0.035</td> <td>   23.012</td> <td> 0.000</td> <td>    0.742</td> <td>    0.880</td>\n",
       "</tr>\n",
       "<tr>\n",
       "  <th>Hour</th>        <td>    0.1438</td> <td>    0.003</td> <td>   46.059</td> <td> 0.000</td> <td>    0.138</td> <td>    0.150</td>\n",
       "</tr>\n",
       "<tr>\n",
       "  <th>Day</th>         <td>    0.0059</td> <td>    0.002</td> <td>    2.975</td> <td> 0.003</td> <td>    0.002</td> <td>    0.010</td>\n",
       "</tr>\n",
       "<tr>\n",
       "  <th>Holiday</th>     <td>  -14.5550</td> <td>  938.808</td> <td>   -0.016</td> <td> 0.988</td> <td>-1854.585</td> <td> 1825.475</td>\n",
       "</tr>\n",
       "<tr>\n",
       "  <th>Month</th>       <td>    0.0691</td> <td>    0.005</td> <td>   13.773</td> <td> 0.000</td> <td>    0.059</td> <td>    0.079</td>\n",
       "</tr>\n",
       "</table>"
      ],
      "text/plain": [
       "<class 'statsmodels.iolib.summary.Summary'>\n",
       "\"\"\"\n",
       "                             Logit Regression Results                            \n",
       "=================================================================================\n",
       "Dep. Variable:     Categorical_Wait_Time   No. Observations:                44222\n",
       "Model:                             Logit   Df Residuals:                    44216\n",
       "Method:                              MLE   Df Model:                            5\n",
       "Date:                   Fri, 18 Nov 2022   Pseudo R-squ.:                  0.1265\n",
       "Time:                           11:03:05   Log-Likelihood:                -11749.\n",
       "converged:                         False   LL-Null:                       -13450.\n",
       "Covariance Type:               nonrobust   LLR p-value:                     0.000\n",
       "===============================================================================\n",
       "                  coef    std err          z      P>|z|      [0.025      0.975]\n",
       "-------------------------------------------------------------------------------\n",
       "Intercept      -5.2395      0.075    -69.482      0.000      -5.387      -5.092\n",
       "Day_of_Week     0.8106      0.035     23.012      0.000       0.742       0.880\n",
       "Hour            0.1438      0.003     46.059      0.000       0.138       0.150\n",
       "Day             0.0059      0.002      2.975      0.003       0.002       0.010\n",
       "Holiday       -14.5550    938.808     -0.016      0.988   -1854.585    1825.475\n",
       "Month           0.0691      0.005     13.773      0.000       0.059       0.079\n",
       "===============================================================================\n",
       "\"\"\""
      ]
     },
     "execution_count": 50,
     "metadata": {},
     "output_type": "execute_result"
    }
   ],
   "source": [
    "# fit our Logistic model\n",
    "f2 = \"Categorical_Wait_Time ~ Day_of_Week+ Hour + Day + Holiday + Month\"\n",
    "logit_model = sm.logit(formula=f2, data=Train).fit()\n",
    "logit_model.summary()"
   ]
  },
  {
   "cell_type": "code",
   "execution_count": 51,
   "id": "95d5e8ea",
   "metadata": {},
   "outputs": [],
   "source": [
    "# define the dependent and independent variables\n",
    "XTest2 = Test[['Day_of_Week','Hour', 'Day', 'Month', 'Holiday']]\n",
    "YTest2 = Test['Categorical_Wait_Time'] \n",
    "  \n",
    "# perform the predictions on the test datdaset\n",
    "yhat2 = logit_model.predict(XTest2)\n",
    "prediction2 = list(map(round, yhat2))"
   ]
  },
  {
   "cell_type": "code",
   "execution_count": 52,
   "id": "ed8e5b65",
   "metadata": {},
   "outputs": [
    {
     "name": "stdout",
     "output_type": "stream",
     "text": [
      "Confusion Matrix : \n",
      " [[26036 12892]\n",
      " [    3    28]]\n",
      "Test accuracy =  0.6690110115762725\n"
     ]
    }
   ],
   "source": [
    "# Get confusion matrix\n",
    "cm = confusion_matrix(YTest2, prediction2) \n",
    "print (\"Confusion Matrix : \\n\", cm) \n",
    "  \n",
    "# accuracy score of the model\n",
    "print('Test accuracy = ', accuracy_score(YTest2, prediction2))"
   ]
  },
  {
   "cell_type": "markdown",
   "id": "e836b4b5",
   "metadata": {},
   "source": [
    "The test accuracy as we see is 66.9%."
   ]
  },
  {
   "cell_type": "markdown",
   "id": "fb8eed94",
   "metadata": {},
   "source": [
    "## Conclusion:\n",
    "\n",
    "We can see that when we try to predict the same wait time variable using OLS and Logistic regression model, the logistic regression model does a much more accurate job of predicting the wait times for Travellers Flow.\n",
    "This is not surprising as the variable that we are trying to predict has some discrete values and will be better predicted as a categorical variable and thus the logistic regression is a better model for this data. We also know that OLS does a good job of predicting variables that have a linear relationship with the features. Here, we didn't see any evidence of that and all our independent variables are also categorical. Hence, Logistic regression is the best model for this data."
   ]
  },
  {
   "cell_type": "markdown",
   "id": "526ea34c",
   "metadata": {},
   "source": [
    "## Additional Considerations:\n",
    "\n",
    "While these are the best models we got from the data present in our dataset, we could improve our models if we could get some additional information and add features. For instance, if we had data on the weather for all the observations, we could have factored that in for the impact on the wait times. Similarly, if we had the information on the nationalities of the passenger we could see their relationship with time taken to cross the port. Pedestrians also take less time to cross so if we have that information, it could improve the model too. If we have information about the maintenance work at the crossings, we could incorporate that into our features too. Access to any or all of this information, could potentially make our model better.\n"
   ]
  }
 ],
 "metadata": {
  "kernelspec": {
   "display_name": "Python 3 (ipykernel)",
   "language": "python",
   "name": "python3"
  },
  "language_info": {
   "codemirror_mode": {
    "name": "ipython",
    "version": 3
   },
   "file_extension": ".py",
   "mimetype": "text/x-python",
   "name": "python",
   "nbconvert_exporter": "python",
   "pygments_lexer": "ipython3",
   "version": "3.9.12"
  }
 },
 "nbformat": 4,
 "nbformat_minor": 5
}
